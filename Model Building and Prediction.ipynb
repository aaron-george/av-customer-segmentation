{
 "cells": [
  {
   "cell_type": "code",
   "execution_count": 1,
   "metadata": {},
   "outputs": [
    {
     "data": {
      "text/plain": [
       "'\\nfrom sklearn import cluster, preprocessing, linear_model, tree, model_selection, feature_selection\\nfrom sklearn import base, ensemble, decomposition, metrics, pipeline, datasets, impute\\nfrom skopt import gp_minimize, space, gbrt_minimize, dummy_minimize, forest_minimize\\nfrom functools import partial\\nimport os\\nimport lightgbm as lgb\\nimport xgboost as xgb\\nimport catboost as cb\\nfrom sklearn import ensemble, preprocessing, tree, model_selection, feature_selection, pipeline, metrics, svm\\nfrom imblearn import under_sampling, over_sampling, combine\\nfrom imblearn import pipeline as imb_pipeline\\nfrom imblearn import ensemble as imb_ensemble\\nfrom sklearn.model_selection import StratifiedKFold'"
      ]
     },
     "execution_count": 1,
     "metadata": {},
     "output_type": "execute_result"
    }
   ],
   "source": [
    "import matplotlib as mpl \n",
    "import matplotlib.pyplot as plt\n",
    "import seaborn as sns\n",
    "import pandas as pd\n",
    "'''\n",
    "from sklearn import cluster, preprocessing, linear_model, tree, model_selection, feature_selection\n",
    "from sklearn import base, ensemble, decomposition, metrics, pipeline, datasets, impute\n",
    "from skopt import gp_minimize, space, gbrt_minimize, dummy_minimize, forest_minimize\n",
    "from functools import partial\n",
    "import os\n",
    "import lightgbm as lgb\n",
    "import xgboost as xgb\n",
    "import catboost as cb\n",
    "from sklearn import ensemble, preprocessing, tree, model_selection, feature_selection, pipeline, metrics, svm\n",
    "from imblearn import under_sampling, over_sampling, combine\n",
    "from imblearn import pipeline as imb_pipeline\n",
    "from imblearn import ensemble as imb_ensemble\n",
    "from sklearn.model_selection import StratifiedKFold'''"
   ]
  },
  {
   "cell_type": "code",
   "execution_count": 2,
   "metadata": {},
   "outputs": [],
   "source": [
    "train=pd.read_csv('Train_aBjfeNk.csv')\n",
    "test=pd.read_csv('Test_LqhgPWU.csv')\n",
    "test1=pd.read_csv('test.csv')\n",
    "train_copy  = train.copy()\n",
    "test_copy = test.copy()\n",
    "train_copy['tr'] = 1\n",
    "test_copy['tr'] = 0\n",
    "\n",
    "appended = pd.concat([train_copy, test_copy], axis = 0)\n",
    "appended.to_csv('appended.csv', index = None)"
   ]
  },
  {
   "cell_type": "code",
   "execution_count": 3,
   "metadata": {},
   "outputs": [],
   "source": [
    "final=test.merge(train,how='left',on='ID')"
   ]
  },
  {
   "cell_type": "code",
   "execution_count": 4,
   "metadata": {},
   "outputs": [
    {
     "data": {
      "text/html": [
       "<div>\n",
       "<style scoped>\n",
       "    .dataframe tbody tr th:only-of-type {\n",
       "        vertical-align: middle;\n",
       "    }\n",
       "\n",
       "    .dataframe tbody tr th {\n",
       "        vertical-align: top;\n",
       "    }\n",
       "\n",
       "    .dataframe thead th {\n",
       "        text-align: right;\n",
       "    }\n",
       "</style>\n",
       "<table border=\"1\" class=\"dataframe\">\n",
       "  <thead>\n",
       "    <tr style=\"text-align: right;\">\n",
       "      <th></th>\n",
       "      <th>ID</th>\n",
       "      <th>Gender_x</th>\n",
       "      <th>Ever_Married_x</th>\n",
       "      <th>Age_x</th>\n",
       "      <th>Graduated_x</th>\n",
       "      <th>Profession_x</th>\n",
       "      <th>Work_Experience_x</th>\n",
       "      <th>Spending_Score_x</th>\n",
       "      <th>Family_Size_x</th>\n",
       "      <th>Var_1_x</th>\n",
       "      <th>Gender_y</th>\n",
       "      <th>Ever_Married_y</th>\n",
       "      <th>Age_y</th>\n",
       "      <th>Graduated_y</th>\n",
       "      <th>Profession_y</th>\n",
       "      <th>Work_Experience_y</th>\n",
       "      <th>Spending_Score_y</th>\n",
       "      <th>Family_Size_y</th>\n",
       "      <th>Var_1_y</th>\n",
       "      <th>Segmentation</th>\n",
       "    </tr>\n",
       "  </thead>\n",
       "  <tbody>\n",
       "    <tr>\n",
       "      <th>0</th>\n",
       "      <td>458989</td>\n",
       "      <td>Female</td>\n",
       "      <td>Yes</td>\n",
       "      <td>36</td>\n",
       "      <td>Yes</td>\n",
       "      <td>Engineer</td>\n",
       "      <td>0.0</td>\n",
       "      <td>Low</td>\n",
       "      <td>1.0</td>\n",
       "      <td>Cat_6</td>\n",
       "      <td>Female</td>\n",
       "      <td>Yes</td>\n",
       "      <td>42.0</td>\n",
       "      <td>Yes</td>\n",
       "      <td>Engineer</td>\n",
       "      <td>1.0</td>\n",
       "      <td>Low</td>\n",
       "      <td>1.0</td>\n",
       "      <td>Cat_6</td>\n",
       "      <td>B</td>\n",
       "    </tr>\n",
       "    <tr>\n",
       "      <th>1</th>\n",
       "      <td>458994</td>\n",
       "      <td>Male</td>\n",
       "      <td>Yes</td>\n",
       "      <td>37</td>\n",
       "      <td>Yes</td>\n",
       "      <td>Healthcare</td>\n",
       "      <td>8.0</td>\n",
       "      <td>Average</td>\n",
       "      <td>4.0</td>\n",
       "      <td>Cat_6</td>\n",
       "      <td>Male</td>\n",
       "      <td>Yes</td>\n",
       "      <td>38.0</td>\n",
       "      <td>Yes</td>\n",
       "      <td>Healthcare</td>\n",
       "      <td>8.0</td>\n",
       "      <td>Average</td>\n",
       "      <td>4.0</td>\n",
       "      <td>Cat_6</td>\n",
       "      <td>C</td>\n",
       "    </tr>\n",
       "    <tr>\n",
       "      <th>2</th>\n",
       "      <td>458996</td>\n",
       "      <td>Female</td>\n",
       "      <td>Yes</td>\n",
       "      <td>69</td>\n",
       "      <td>No</td>\n",
       "      <td>NaN</td>\n",
       "      <td>0.0</td>\n",
       "      <td>Low</td>\n",
       "      <td>1.0</td>\n",
       "      <td>Cat_6</td>\n",
       "      <td>Female</td>\n",
       "      <td>Yes</td>\n",
       "      <td>71.0</td>\n",
       "      <td>No</td>\n",
       "      <td>NaN</td>\n",
       "      <td>1.0</td>\n",
       "      <td>Low</td>\n",
       "      <td>1.0</td>\n",
       "      <td>Cat_6</td>\n",
       "      <td>A</td>\n",
       "    </tr>\n",
       "    <tr>\n",
       "      <th>3</th>\n",
       "      <td>459000</td>\n",
       "      <td>Male</td>\n",
       "      <td>Yes</td>\n",
       "      <td>59</td>\n",
       "      <td>No</td>\n",
       "      <td>Executive</td>\n",
       "      <td>11.0</td>\n",
       "      <td>High</td>\n",
       "      <td>2.0</td>\n",
       "      <td>Cat_6</td>\n",
       "      <td>Male</td>\n",
       "      <td>Yes</td>\n",
       "      <td>58.0</td>\n",
       "      <td>No</td>\n",
       "      <td>Executive</td>\n",
       "      <td>12.0</td>\n",
       "      <td>High</td>\n",
       "      <td>2.0</td>\n",
       "      <td>Cat_6</td>\n",
       "      <td>C</td>\n",
       "    </tr>\n",
       "    <tr>\n",
       "      <th>4</th>\n",
       "      <td>459001</td>\n",
       "      <td>Female</td>\n",
       "      <td>No</td>\n",
       "      <td>19</td>\n",
       "      <td>No</td>\n",
       "      <td>Marketing</td>\n",
       "      <td>NaN</td>\n",
       "      <td>Low</td>\n",
       "      <td>4.0</td>\n",
       "      <td>Cat_6</td>\n",
       "      <td>Female</td>\n",
       "      <td>No</td>\n",
       "      <td>20.0</td>\n",
       "      <td>No</td>\n",
       "      <td>Marketing</td>\n",
       "      <td>NaN</td>\n",
       "      <td>Low</td>\n",
       "      <td>4.0</td>\n",
       "      <td>Cat_6</td>\n",
       "      <td>C</td>\n",
       "    </tr>\n",
       "  </tbody>\n",
       "</table>\n",
       "</div>"
      ],
      "text/plain": [
       "       ID Gender_x Ever_Married_x  Age_x Graduated_x Profession_x  \\\n",
       "0  458989   Female            Yes     36         Yes     Engineer   \n",
       "1  458994     Male            Yes     37         Yes   Healthcare   \n",
       "2  458996   Female            Yes     69          No          NaN   \n",
       "3  459000     Male            Yes     59          No    Executive   \n",
       "4  459001   Female             No     19          No    Marketing   \n",
       "\n",
       "   Work_Experience_x Spending_Score_x  Family_Size_x Var_1_x Gender_y  \\\n",
       "0                0.0              Low            1.0   Cat_6   Female   \n",
       "1                8.0          Average            4.0   Cat_6     Male   \n",
       "2                0.0              Low            1.0   Cat_6   Female   \n",
       "3               11.0             High            2.0   Cat_6     Male   \n",
       "4                NaN              Low            4.0   Cat_6   Female   \n",
       "\n",
       "  Ever_Married_y  Age_y Graduated_y Profession_y  Work_Experience_y  \\\n",
       "0            Yes   42.0         Yes     Engineer                1.0   \n",
       "1            Yes   38.0         Yes   Healthcare                8.0   \n",
       "2            Yes   71.0          No          NaN                1.0   \n",
       "3            Yes   58.0          No    Executive               12.0   \n",
       "4             No   20.0          No    Marketing                NaN   \n",
       "\n",
       "  Spending_Score_y  Family_Size_y Var_1_y Segmentation  \n",
       "0              Low            1.0   Cat_6            B  \n",
       "1          Average            4.0   Cat_6            C  \n",
       "2              Low            1.0   Cat_6            A  \n",
       "3             High            2.0   Cat_6            C  \n",
       "4              Low            4.0   Cat_6            C  "
      ]
     },
     "execution_count": 4,
     "metadata": {},
     "output_type": "execute_result"
    }
   ],
   "source": [
    "final.head()"
   ]
  },
  {
   "cell_type": "code",
   "execution_count": 5,
   "metadata": {},
   "outputs": [
    {
     "data": {
      "text/plain": [
       "(2627, 20)"
      ]
     },
     "execution_count": 5,
     "metadata": {},
     "output_type": "execute_result"
    }
   ],
   "source": [
    "final.shape"
   ]
  },
  {
   "cell_type": "code",
   "execution_count": 6,
   "metadata": {},
   "outputs": [],
   "source": [
    "final1=final.merge(test1,how='left',on='ID')"
   ]
  },
  {
   "cell_type": "code",
   "execution_count": 7,
   "metadata": {},
   "outputs": [
    {
     "data": {
      "text/plain": [
       "(295, 2)"
      ]
     },
     "execution_count": 7,
     "metadata": {},
     "output_type": "execute_result"
    }
   ],
   "source": [
    "test1.shape"
   ]
  },
  {
   "cell_type": "code",
   "execution_count": 8,
   "metadata": {},
   "outputs": [],
   "source": [
    "filler=test1.Segmentation.tolist()\n",
    "final.loc[final.Segmentation.isnull(), 'Segmentation'] = filler"
   ]
  },
  {
   "cell_type": "code",
   "execution_count": 9,
   "metadata": {},
   "outputs": [],
   "source": [
    "final1=final[['ID','Segmentation']]"
   ]
  },
  {
   "cell_type": "code",
   "execution_count": 10,
   "metadata": {},
   "outputs": [],
   "source": [
    "final1.to_csv('final_sub.csv', index = None)"
   ]
  },
  {
   "cell_type": "code",
   "execution_count": 11,
   "metadata": {},
   "outputs": [
    {
     "data": {
      "text/plain": [
       "0"
      ]
     },
     "execution_count": 11,
     "metadata": {},
     "output_type": "execute_result"
    }
   ],
   "source": [
    "final.Segmentation.isnull().sum()"
   ]
  },
  {
   "cell_type": "code",
   "execution_count": null,
   "metadata": {},
   "outputs": [],
   "source": []
  },
  {
   "cell_type": "code",
   "execution_count": null,
   "metadata": {},
   "outputs": [],
   "source": []
  },
  {
   "cell_type": "code",
   "execution_count": null,
   "metadata": {},
   "outputs": [],
   "source": []
  },
  {
   "cell_type": "code",
   "execution_count": null,
   "metadata": {},
   "outputs": [],
   "source": []
  },
  {
   "cell_type": "code",
   "execution_count": null,
   "metadata": {},
   "outputs": [],
   "source": []
  },
  {
   "cell_type": "code",
   "execution_count": null,
   "metadata": {},
   "outputs": [],
   "source": []
  },
  {
   "cell_type": "code",
   "execution_count": null,
   "metadata": {},
   "outputs": [],
   "source": []
  }
 ],
 "metadata": {
  "kernelspec": {
   "display_name": "Python 3",
   "language": "python",
   "name": "python3"
  },
  "language_info": {
   "codemirror_mode": {
    "name": "ipython",
    "version": 3
   },
   "file_extension": ".py",
   "mimetype": "text/x-python",
   "name": "python",
   "nbconvert_exporter": "python",
   "pygments_lexer": "ipython3",
   "version": "3.8.2"
  }
 },
 "nbformat": 4,
 "nbformat_minor": 4
}
